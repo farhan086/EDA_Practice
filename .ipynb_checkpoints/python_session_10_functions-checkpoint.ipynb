{
 "cells": [
  {
   "cell_type": "markdown",
   "id": "547e00f7",
   "metadata": {},
   "source": [
    "# Functions or Methods"
   ]
  },
  {
   "cell_type": "code",
   "execution_count": null,
   "id": "0943e2ed-913f-42a6-81cc-17ef9b1eff54",
   "metadata": {},
   "outputs": [],
   "source": []
  },
  {
   "cell_type": "code",
   "execution_count": null,
   "id": "5d016766-e390-47e9-a01b-f6208d4cf7eb",
   "metadata": {},
   "outputs": [],
   "source": []
  },
  {
   "cell_type": "code",
   "execution_count": null,
   "id": "486014d0-8f94-431b-b1b6-fec3ca9856dc",
   "metadata": {},
   "outputs": [],
   "source": []
  },
  {
   "cell_type": "code",
   "execution_count": null,
   "id": "34b31c70-9944-4d5c-99c3-8556fb7a37b7",
   "metadata": {},
   "outputs": [],
   "source": []
  },
  {
   "cell_type": "code",
   "execution_count": null,
   "id": "19b7c976-87bc-4df3-bdb1-36ee64f9d4fb",
   "metadata": {},
   "outputs": [],
   "source": []
  },
  {
   "cell_type": "code",
   "execution_count": null,
   "id": "78c11a66-5d0e-46ab-9df8-99df0ccde499",
   "metadata": {},
   "outputs": [],
   "source": [
    "hi "
   ]
  },
  {
   "cell_type": "markdown",
   "id": "2387ead3",
   "metadata": {},
   "source": [
    "- reuse of code is called functions\n",
    "\n"
   ]
  },
  {
   "cell_type": "markdown",
   "id": "15b93488",
   "metadata": {},
   "source": [
    "- types of fucntions\n",
    "\n",
    "- functions without arguments\n",
    "\n",
    "- functions with arguments\n",
    "\n",
    "- function with defoult arguments\n",
    "\n",
    "- globle variable vs local variables\n",
    "\n",
    "- functions with returns statements\n",
    "\n",
    "- functions with keywordargyments\n",
    "\n",
    "- function in functions"
   ]
  },
  {
   "cell_type": "markdown",
   "id": "0f5600ec",
   "metadata": {},
   "source": [
    "# syntax"
   ]
  },
  {
   "cell_type": "code",
   "execution_count": null,
   "id": "e02798fd",
   "metadata": {},
   "outputs": [],
   "source": [
    "def  <function name> ():\n",
    "    <write your code here>"
   ]
  },
  {
   "cell_type": "markdown",
   "id": "fa4fcd0a",
   "metadata": {},
   "source": [
    "**Function without arguments**\n",
    "\n",
    "- the function we define does not have any values or variables\n",
    "\n",
    "- these also called as arguments or parameters\n",
    "\n",
    "- simply it is a empty bracket"
   ]
  },
  {
   "cell_type": "code",
   "execution_count": 10,
   "id": "a8338249",
   "metadata": {},
   "outputs": [
    {
     "name": "stdout",
     "output_type": "stream",
     "text": [
      "Enter num1: 20\n",
      "Enter num2: 30\n",
      "The addition of 20, 30, is: 50\n"
     ]
    }
   ],
   "source": [
    "\n",
    "def addition():\n",
    "    \n",
    "    n1=eval(input('Enter num1: '))\n",
    "    n2=eval(input('Enter num2: '))\n",
    "    add=n1+n2\n",
    "    print(f'The addition of {n1}, {n2}, is: {add}')\n",
    "    \n",
    "addition()"
   ]
  },
  {
   "cell_type": "code",
   "execution_count": null,
   "id": "e2ca264f",
   "metadata": {},
   "outputs": [],
   "source": [
    "# function is ready \n",
    "# creating function means it will not give the answer\n",
    "# you need to call the function"
   ]
  },
  {
   "cell_type": "markdown",
   "id": "f35ed65d",
   "metadata": {},
   "source": [
    "# Note\n",
    "\n",
    "- while calling the function we need to use the function name\n",
    "\n",
    "- also we need to provide brackets \n",
    "\n",
    "- in python brackets indicates it is a function or method\n",
    "\n",
    "- if we miss the brackets, it will display as \n",
    "\n",
    "    - function\n",
    "    \n",
    "    - bound method"
   ]
  },
  {
   "cell_type": "code",
   "execution_count": null,
   "id": "cb3b1b81",
   "metadata": {},
   "outputs": [],
   "source": []
  },
  {
   "cell_type": "markdown",
   "id": "58e97a45",
   "metadata": {},
   "source": [
    "**Note**\n",
    "\n",
    "- once we create the function we can use anywhere in the notebook\n",
    "\n",
    "- if you want to use in another notebook\n",
    "\n",
    "- we need to create as Package (OOPs)"
   ]
  },
  {
   "cell_type": "code",
   "execution_count": null,
   "id": "ad4b0150",
   "metadata": {},
   "outputs": [],
   "source": [
    "addition1\n",
    "def addition1():\n",
    "    \n",
    "    n1=eval(input('Enter num1: '))\n",
    "    n2=eval(input('Enter num2: '))\n",
    "    add=n1+n2\n",
    "    print(f'The addition of {n1}, {n2}, is: {add}')\n",
    "    \n",
    "# the above code will give the error\n",
    "# before call the function first we need to define the function"
   ]
  },
  {
   "cell_type": "markdown",
   "id": "611cc786",
   "metadata": {},
   "source": [
    "# Note\n",
    "\n",
    "- variable names should not equal to function names\n",
    "\n",
    "- everytime give defferant name to function"
   ]
  },
  {
   "cell_type": "code",
   "execution_count": 21,
   "id": "a5debc0a",
   "metadata": {},
   "outputs": [
    {
     "name": "stdout",
     "output_type": "stream",
     "text": [
      "Enter num1: 10\n",
      "Enter num2: 20\n",
      "Enter num3: 30\n",
      "the average is 20.0\n"
     ]
    }
   ],
   "source": [
    "# Q1 wap ask the user take threee numbers from keyboard and print average\n",
    "# (n1+n2+n3)/3\n",
    "def average():\n",
    "    n1=eval(input('Enter num1: '))\n",
    "    n2=eval(input('Enter num2: '))\n",
    "    n3=eval(input('Enter num3: '))\n",
    "\n",
    "    avg= (n1+n2+n3)/3\n",
    "\n",
    "    print(f'the average is {avg}')\n",
    "    \n",
    "average()"
   ]
  },
  {
   "cell_type": "code",
   "execution_count": 23,
   "id": "b158a531",
   "metadata": {},
   "outputs": [
    {
     "name": "stdout",
     "output_type": "stream",
     "text": [
      "Enter breadth: 20\n",
      "Enter height: 30\n",
      "The area is 300.0\n"
     ]
    }
   ],
   "source": [
    "def trangle():\n",
    "    b=eval(input('Enter breadth: '))\n",
    "    h=eval(input('Enter height: '))\n",
    "    \n",
    "    area= 0.5*b*h\n",
    "    \n",
    "    print(f'The area is {area}')\n",
    "    \n",
    "trangle()"
   ]
  },
  {
   "cell_type": "code",
   "execution_count": 16,
   "id": "b68b7a8a",
   "metadata": {},
   "outputs": [
    {
     "name": "stdout",
     "output_type": "stream",
     "text": [
      "enter radius:4\n",
      "the area of circle is : 50.24\n"
     ]
    }
   ],
   "source": [
    "def circle():\n",
    "    radius=eval(input('enter radius:'))\n",
    "    area=3.14*radius*radius\n",
    "    print(f'the area of circle is : {area}')\n",
    "    \n",
    "circle()"
   ]
  },
  {
   "cell_type": "code",
   "execution_count": 17,
   "id": "1771285e",
   "metadata": {},
   "outputs": [
    {
     "name": "stdout",
     "output_type": "stream",
     "text": [
      "enter the bill amount:1000\n",
      "enter the tip amount:10\n",
      "the total bill is: 1010\n"
     ]
    }
   ],
   "source": [
    "def billing():\n",
    "    bill_amount=eval(input('enter the bill amount:'))\n",
    "    tip_amount=eval(input('enter the tip amount:'))\n",
    "    total_bill=bill_amount+tip_amount\n",
    "\n",
    "    print(f'the total bill is: {total_bill}')\n",
    "    \n",
    "billing()"
   ]
  },
  {
   "cell_type": "code",
   "execution_count": 18,
   "id": "7d845506",
   "metadata": {},
   "outputs": [
    {
     "name": "stdout",
     "output_type": "stream",
     "text": [
      "enter the bill amount:1000\n",
      "enter the tip amount:10\n",
      "the total bill is: 1100.0\n"
     ]
    }
   ],
   "source": [
    "def percentage1():\n",
    "    bill_amount=eval(input('enter the bill amount:'))\n",
    "    tip_per=eval(input('enter the tip amount:'))\n",
    "    tip_amount=bill_amount*tip_per/100\n",
    "    total_bill=bill_amount+tip_amount\n",
    "\n",
    "    print(f'the total bill is: {total_bill}')\n",
    "    \n",
    "percentage1()"
   ]
  },
  {
   "cell_type": "code",
   "execution_count": 27,
   "id": "efc0ffa0",
   "metadata": {},
   "outputs": [
    {
     "name": "stdout",
     "output_type": "stream",
     "text": [
      "Enter num1: 20\n",
      "Enter num2: 30\n",
      "Enter num3: 40\n",
      "name 'n33' is not defined\n"
     ]
    }
   ],
   "source": [
    "# Function with try-except\n",
    "def AVERAGE():\n",
    "    \n",
    "    try :\n",
    "        n1=eval(input('Enter num1: '))\n",
    "        n2=eval(input('Enter num2: '))\n",
    "        n3=eval(input('Enter num3: '))\n",
    "\n",
    "        avg= (n1+n2+n33)/3\n",
    "\n",
    "        print(f'the average is {avg}')\n",
    "        \n",
    "    except Exception as e:\n",
    "        print(e)\n",
    "        \n",
    "        \n",
    "AVERAGE()        \n",
    "        \n",
    "        \n",
    "        "
   ]
  },
  {
   "cell_type": "code",
   "execution_count": 32,
   "id": "9fb5513d",
   "metadata": {},
   "outputs": [
    {
     "name": "stdout",
     "output_type": "stream",
     "text": [
      "Enter num1: 10\n",
      "Enter num2: 20\n",
      "Enter num3: 30\n"
     ]
    },
    {
     "ename": "NameError",
     "evalue": "name 'n333' is not defined",
     "output_type": "error",
     "traceback": [
      "\u001b[1;31m---------------------------------------------------------------------------\u001b[0m",
      "\u001b[1;31mNameError\u001b[0m                                 Traceback (most recent call last)",
      "Cell \u001b[1;32mIn[32], line 14\u001b[0m\n\u001b[0;32m     11\u001b[0m \u001b[38;5;28;01mexcept\u001b[39;00m \u001b[38;5;167;01mException\u001b[39;00m \u001b[38;5;28;01mas\u001b[39;00m e:\n\u001b[0;32m     12\u001b[0m     \u001b[38;5;28mprint\u001b[39m(e)\n\u001b[1;32m---> 14\u001b[0m \u001b[43maverage3\u001b[49m\u001b[43m(\u001b[49m\u001b[43m)\u001b[49m\n",
      "Cell \u001b[1;32mIn[32], line 7\u001b[0m, in \u001b[0;36maverage3\u001b[1;34m()\u001b[0m\n\u001b[0;32m      4\u001b[0m n2\u001b[38;5;241m=\u001b[39m\u001b[38;5;28meval\u001b[39m(\u001b[38;5;28minput\u001b[39m(\u001b[38;5;124m'\u001b[39m\u001b[38;5;124mEnter num2: \u001b[39m\u001b[38;5;124m'\u001b[39m))\n\u001b[0;32m      5\u001b[0m n3\u001b[38;5;241m=\u001b[39m\u001b[38;5;28meval\u001b[39m(\u001b[38;5;28minput\u001b[39m(\u001b[38;5;124m'\u001b[39m\u001b[38;5;124mEnter num3: \u001b[39m\u001b[38;5;124m'\u001b[39m))\n\u001b[1;32m----> 7\u001b[0m avg\u001b[38;5;241m=\u001b[39m (n1\u001b[38;5;241m+\u001b[39mn2\u001b[38;5;241m+\u001b[39m\u001b[43mn333\u001b[49m)\u001b[38;5;241m/\u001b[39m\u001b[38;5;241m3\u001b[39m\n\u001b[0;32m      9\u001b[0m \u001b[38;5;28mprint\u001b[39m(\u001b[38;5;124mf\u001b[39m\u001b[38;5;124m'\u001b[39m\u001b[38;5;124mthe average is \u001b[39m\u001b[38;5;132;01m{\u001b[39;00mavg\u001b[38;5;132;01m}\u001b[39;00m\u001b[38;5;124m'\u001b[39m)\n",
      "\u001b[1;31mNameError\u001b[0m: name 'n333' is not defined"
     ]
    }
   ],
   "source": [
    "try:\n",
    "    def average3():\n",
    "        n1=eval(input('Enter num1: '))\n",
    "        n2=eval(input('Enter num2: '))\n",
    "        n3=eval(input('Enter num3: '))\n",
    "\n",
    "        avg= (n1+n2+n333)/3\n",
    "\n",
    "        print(f'the average is {avg}')\n",
    "    \n",
    "except Exception as e:\n",
    "    print(e)\n",
    "\n",
    "average3()\n",
    "\n",
    "# if we write function inside try except it will not work"
   ]
  },
  {
   "cell_type": "markdown",
   "id": "9072e91d",
   "metadata": {},
   "source": [
    "# Note \n",
    "\n",
    "- always **try and except** apply for only one code\n",
    "\n",
    "- not for function\n",
    "\n",
    "- inside the function write **Try-except**\n",
    "\n",
    "- when we define the function , it will not give any error or any answer\n",
    "\n",
    "- if we want  to see any error or any answer we need to call the function"
   ]
  },
  {
   "cell_type": "markdown",
   "id": "e55c6d3a",
   "metadata": {},
   "source": [
    "**Functions with Arguments**"
   ]
  },
  {
   "cell_type": "markdown",
   "id": "38d980ea",
   "metadata": {},
   "source": [
    "- lets'create a addition program code"
   ]
  },
  {
   "cell_type": "code",
   "execution_count": null,
   "id": "69aef1bc",
   "metadata": {},
   "outputs": [],
   "source": [
    "def addition():\n",
    "    n1=eval(input('Enter the n1: '))\n",
    "    n2=eval(input('Enter the n2: '))\n",
    "\n",
    "    add=n1+n2\n",
    "\n",
    "    print('the addition of {n1} and {n2} is:{add}')\n",
    "\n",
    "    \n",
    "addition()"
   ]
  },
  {
   "cell_type": "markdown",
   "id": "75830d02",
   "metadata": {},
   "source": [
    "- how many variables are in above code: 3\n",
    "\n",
    "    - n1,n2,add\n",
    "\n",
    "- what are the input variable\n",
    "\n",
    "    - n1,n2\n",
    "\n",
    "- what are the output variables\n",
    "\n",
    "    - add\n",
    "    \n",
    "- pass the input variables inside the function brackets\n",
    "\n",
    "- pass n1, n2 inside the brackets, these n1, n2 behave as function arguments"
   ]
  },
  {
   "cell_type": "code",
   "execution_count": 6,
   "id": "8f89fa46",
   "metadata": {},
   "outputs": [
    {
     "name": "stdout",
     "output_type": "stream",
     "text": [
      "the addition of 10 and 20 is:30\n"
     ]
    }
   ],
   "source": [
    "def addition(n1, n2):\n",
    "   \n",
    "    add=n1+n2\n",
    "\n",
    "    print(f'the addition of {n1} and {n2} is:{add}')\n",
    "\n",
    "    \n",
    "addition(10,20)"
   ]
  },
  {
   "cell_type": "code",
   "execution_count": 11,
   "id": "0cc4076d",
   "metadata": {},
   "outputs": [
    {
     "name": "stdout",
     "output_type": "stream",
     "text": [
      "the average is 20.0\n"
     ]
    }
   ],
   "source": [
    "def average(n1,n2,n3):\n",
    "   \n",
    "    avg= (n1+n2+n3)/3\n",
    "\n",
    "    print(f'the average is {avg}')\n",
    "    \n",
    "average(10,20,30)"
   ]
  },
  {
   "cell_type": "code",
   "execution_count": 12,
   "id": "d61bc850",
   "metadata": {},
   "outputs": [
    {
     "name": "stdout",
     "output_type": "stream",
     "text": [
      "The area is 100.0\n"
     ]
    }
   ],
   "source": [
    "def trangle(b,h):\n",
    "  \n",
    "    area= 0.5*b*h\n",
    "    \n",
    "    print(f'The area is {area}')\n",
    "    \n",
    "trangle(10,20)"
   ]
  },
  {
   "cell_type": "code",
   "execution_count": 13,
   "id": "590c181e",
   "metadata": {},
   "outputs": [
    {
     "name": "stdout",
     "output_type": "stream",
     "text": [
      "area of circle is : 314.0\n"
     ]
    }
   ],
   "source": [
    "def circle(r):\n",
    "    area=3.14*r*r\n",
    "    \n",
    "    print(f'area of circle is : {area}')\n",
    "    \n",
    "circle(10)"
   ]
  },
  {
   "cell_type": "code",
   "execution_count": 15,
   "id": "989e155c",
   "metadata": {},
   "outputs": [
    {
     "name": "stdout",
     "output_type": "stream",
     "text": [
      "area of trangle is: 200\n"
     ]
    }
   ],
   "source": [
    "def rectangle(b,h):\n",
    "    area=b*h\n",
    "    print(f'area of trangle is: {area}')\n",
    "rectangle(10,20)"
   ]
  },
  {
   "cell_type": "code",
   "execution_count": 16,
   "id": "675befa5",
   "metadata": {},
   "outputs": [
    {
     "name": "stdout",
     "output_type": "stream",
     "text": [
      "Enter the n3: 30\n",
      "the average is 20.0\n"
     ]
    }
   ],
   "source": [
    "def average(n1,n2):\n",
    "    n3=eval(input('Enter the n3: '))\n",
    "    avg= (n1+n2+n3)/3\n",
    "\n",
    "    print(f'the average is {avg}')\n",
    "    \n",
    "average(10,20)\n",
    "\n",
    "# while calling the function wewant to privide n1,n2\n",
    "# while runnging the function we want to privide n3"
   ]
  },
  {
   "cell_type": "code",
   "execution_count": 17,
   "id": "a2da60ec",
   "metadata": {},
   "outputs": [
    {
     "name": "stdout",
     "output_type": "stream",
     "text": [
      "Enter the n2: 20\n",
      "Enter the n3: 30\n",
      "the average is 20.0\n"
     ]
    }
   ],
   "source": [
    "def average(n1):\n",
    "    n2=eval(input('Enter the n2: '))\n",
    "    n3=eval(input('Enter the n3: '))\n",
    "    avg= (n1+n2+n3)/3\n",
    "\n",
    "    print(f'the average is {avg}')\n",
    "    \n",
    "average(10)\n"
   ]
  },
  {
   "cell_type": "code",
   "execution_count": 27,
   "id": "c5ca04c4",
   "metadata": {},
   "outputs": [
    {
     "name": "stdout",
     "output_type": "stream",
     "text": [
      "Enter the n1: 10\n",
      "Enter the n2: 20\n",
      "Enter the n3: 30\n",
      "the average is 20.0\n"
     ]
    }
   ],
   "source": [
    "def average2():\n",
    "    n1=eval(input('Enter the n1: '))\n",
    "    n2=eval(input('Enter the n2: '))\n",
    "    n3=eval(input('Enter the n3: '))\n",
    "    avg= (n1+n2+n3)/3\n",
    "\n",
    "    print(f'the average is {avg}')\n",
    "    \n",
    "average2()\n"
   ]
  },
  {
   "cell_type": "code",
   "execution_count": 23,
   "id": "682a7bae",
   "metadata": {},
   "outputs": [
    {
     "name": "stdout",
     "output_type": "stream",
     "text": [
      "36\n"
     ]
    }
   ],
   "source": [
    "def power1(number, power):\n",
    "    \n",
    "    print(number**power)\n",
    "    \n",
    "power1(6,2)"
   ]
  },
  {
   "cell_type": "code",
   "execution_count": 28,
   "id": "ea5fa8ea",
   "metadata": {},
   "outputs": [
    {
     "name": "stdout",
     "output_type": "stream",
     "text": [
      "the total bill is: 1200\n"
     ]
    }
   ],
   "source": [
    "def bill(billamount, tipamount):\n",
    "    \n",
    "    totalbill=billamount+tipamount\n",
    "    print(f'the total bill is: {totalbill}')\n",
    "    \n",
    "bill(1000,200)"
   ]
  },
  {
   "cell_type": "markdown",
   "id": "a6bd7a64",
   "metadata": {},
   "source": [
    "**functions with defoult arguments**"
   ]
  },
  {
   "cell_type": "code",
   "execution_count": 29,
   "id": "b2d82e4d",
   "metadata": {},
   "outputs": [
    {
     "name": "stdout",
     "output_type": "stream",
     "text": [
      "the total bill is: 1500\n"
     ]
    }
   ],
   "source": [
    "def bill(billamount, tipamount=500):\n",
    "    \n",
    "    totalbill=billamount+tipamount\n",
    "    print(f'the total bill is: {totalbill}')\n",
    "    \n",
    "bill(1000)"
   ]
  },
  {
   "cell_type": "code",
   "execution_count": 32,
   "id": "948bd930",
   "metadata": {},
   "outputs": [
    {
     "name": "stdout",
     "output_type": "stream",
     "text": [
      "n1: 10\n",
      "n2: 50\n",
      "n3: 40\n",
      "the average is 33.333333333333336\n"
     ]
    }
   ],
   "source": [
    "def average2(n1,n2=50,n3=40):\n",
    "    print('n1:', n1)\n",
    "    print('n2:', n2)\n",
    "    print('n3:', n3)\n",
    "   \n",
    "    avg= (n1+n2+n3)/3\n",
    "\n",
    "    print(f'the average is {avg}')\n",
    "    \n",
    "average2(10)"
   ]
  },
  {
   "cell_type": "code",
   "execution_count": 38,
   "id": "20418faa",
   "metadata": {},
   "outputs": [
    {
     "name": "stdout",
     "output_type": "stream",
     "text": [
      "n1: 40\n",
      "n2: 10\n",
      "n3: 20\n",
      "the average is 23.333333333333332\n"
     ]
    }
   ],
   "source": [
    "def average2(n2,n3,n1=40):\n",
    "    print('n1:', n1)\n",
    "    print('n2:', n2)\n",
    "    print('n3:', n3)\n",
    "   \n",
    "    avg= (n1+n2+n3)/3\n",
    "\n",
    "    print(f'the average is {avg}')\n",
    "    \n",
    "average2(10,20)"
   ]
  },
  {
   "cell_type": "markdown",
   "id": "62c44d40",
   "metadata": {},
   "source": [
    "**always write the defoult arguments at last**"
   ]
  },
  {
   "cell_type": "code",
   "execution_count": 1,
   "id": "1aa99a6a",
   "metadata": {},
   "outputs": [
    {
     "name": "stdout",
     "output_type": "stream",
     "text": [
      "enter number: 10\n",
      "lost\n"
     ]
    }
   ],
   "source": [
    "import random\n",
    "def random1():\n",
    "    num=eval(input('enter number: '))\n",
    "    num2=random.randint(1,10)\n",
    "\n",
    "    if num==num2:\n",
    "        print('won')\n",
    "    else:\n",
    "        print('lost')\n",
    "random1()"
   ]
  },
  {
   "cell_type": "code",
   "execution_count": 3,
   "id": "ebc0697a",
   "metadata": {},
   "outputs": [
    {
     "name": "stdout",
     "output_type": "stream",
     "text": [
      "lost\n"
     ]
    }
   ],
   "source": [
    "def random1(num):\n",
    "   \n",
    "    num2=random.randint(1,10)\n",
    "\n",
    "    if num==num2:\n",
    "        print('won')\n",
    "    else:\n",
    "        print('lost')\n",
    "random1(10)"
   ]
  },
  {
   "cell_type": "code",
   "execution_count": 5,
   "id": "e850ed21",
   "metadata": {},
   "outputs": [
    {
     "name": "stdout",
     "output_type": "stream",
     "text": [
      "lost\n"
     ]
    }
   ],
   "source": [
    "# defoult arguments\n",
    "\n",
    "def random2(num=5):\n",
    "   \n",
    "    num2=random.randint(1,10)\n",
    "\n",
    "    if num==num2:\n",
    "        print('won')\n",
    "    else:\n",
    "        print('lost')\n",
    "random2()"
   ]
  },
  {
   "cell_type": "markdown",
   "id": "12cc4878",
   "metadata": {},
   "source": [
    "**case-1**\n",
    "\n",
    "- step-1: define the function \n",
    "\n",
    "- step-2: call the function\n",
    "\n",
    "- step3: run the function"
   ]
  },
  {
   "cell_type": "code",
   "execution_count": 7,
   "id": "133e7900",
   "metadata": {},
   "outputs": [
    {
     "name": "stdout",
     "output_type": "stream",
     "text": [
      "n1: 100\n",
      "n2: 10\n",
      "n3: 20\n",
      "the average is 43.333333333333336\n"
     ]
    }
   ],
   "source": [
    "def average(n2,n3,n1=40):\n",
    "    print('n1:', n1)\n",
    "    print('n2:', n2)\n",
    "    print('n3:', n3)\n",
    "   \n",
    "    avg= (n1+n2+n3)/3\n",
    "\n",
    "    print(f'the average is {avg}')\n",
    "    \n",
    "average(10,20,100)\n",
    "\n",
    "# while defining n3=40\n",
    "# while calling n3=100\n",
    "# while runing also n3=100"
   ]
  },
  {
   "cell_type": "code",
   "execution_count": 10,
   "id": "0c9d6010",
   "metadata": {},
   "outputs": [
    {
     "name": "stdout",
     "output_type": "stream",
     "text": [
      "a: 10\n",
      "b: 20\n",
      "c: 100\n",
      "130\n"
     ]
    }
   ],
   "source": [
    "def add(a,b,c=50):\n",
    "    print('a:', a)\n",
    "    print('b:', b)\n",
    "    print('c:', c)\n",
    "    \n",
    "    d=a+b+c\n",
    "    print(d)\n",
    "    \n",
    "add(10,20,100)"
   ]
  },
  {
   "cell_type": "code",
   "execution_count": 13,
   "id": "4f27f99a",
   "metadata": {},
   "outputs": [
    {
     "name": "stdout",
     "output_type": "stream",
     "text": [
      "a: 10\n",
      "b: 20\n",
      "c: 500\n",
      "530\n"
     ]
    }
   ],
   "source": [
    "def add(a,b,c=50):\n",
    "    c=500\n",
    "    print('a:', a)\n",
    "    print('b:', b)\n",
    "    print('c:', c)\n",
    "    c=1000\n",
    "    d=a+b+c\n",
    "    print(d)\n",
    "    \n",
    "add(10,20,100)"
   ]
  },
  {
   "cell_type": "code",
   "execution_count": 16,
   "id": "adbfab24",
   "metadata": {},
   "outputs": [
    {
     "name": "stdout",
     "output_type": "stream",
     "text": [
      "a: 10\n",
      "b: 20\n",
      "c: 100\n",
      "130\n"
     ]
    }
   ],
   "source": [
    "\n",
    "def add(a,b,c=50):\n",
    "\n",
    "    print('a:', a)\n",
    "    print('b:', b)\n",
    "    print('c:', c)\n",
    "    \n",
    "    d=a+b+c\n",
    "    print(d)\n",
    "c=700   \n",
    "add(10,20,100)"
   ]
  },
  {
   "cell_type": "code",
   "execution_count": 17,
   "id": "0e6f7e69",
   "metadata": {},
   "outputs": [
    {
     "name": "stdout",
     "output_type": "stream",
     "text": [
      "a: 10\n",
      "b: 20\n",
      "c: 100\n",
      "130\n"
     ]
    }
   ],
   "source": [
    "c=900\n",
    "def add(a,b,c=50):\n",
    "\n",
    "    print('a:', a)\n",
    "    print('b:', b)\n",
    "    print('c:', c)\n",
    "    \n",
    "    d=a+b+c\n",
    "    print(d)\n",
    "c=700   \n",
    "add(10,20,100)"
   ]
  },
  {
   "cell_type": "markdown",
   "id": "d5fe620d",
   "metadata": {},
   "source": [
    "# local variables vs globle variables\n",
    "\n",
    "- local variables are used inside the function\n",
    "\n",
    "- globale variable are used outside the function\n",
    "\n",
    "- globle variable can be used at anywhare **inside the function** or **outide the function**\n",
    "\n",
    "- locals variable can not use outside the function\n"
   ]
  },
  {
   "cell_type": "code",
   "execution_count": 19,
   "id": "6a54ee61",
   "metadata": {},
   "outputs": [
    {
     "name": "stdout",
     "output_type": "stream",
     "text": [
      "Enter num1: 10\n",
      "Enter num2: 20\n",
      "Enter num3: 30\n",
      "the average is 20.0\n"
     ]
    }
   ],
   "source": [
    "n1=eval(input('Enter num1: '))\n",
    "n2=eval(input('Enter num2: '))\n",
    "n3=eval(input('Enter num3: '))\n",
    "\n",
    "\n",
    "def AVERAGE():\n",
    "    avg= (n1+n2+n3)/3\n",
    "\n",
    "    print(f'the average is {avg}')\n",
    "AVERAGE()"
   ]
  },
  {
   "cell_type": "code",
   "execution_count": 21,
   "id": "d1837f54",
   "metadata": {},
   "outputs": [
    {
     "name": "stdout",
     "output_type": "stream",
     "text": [
      "10 20 30\n"
     ]
    }
   ],
   "source": [
    "print(n1,n2,n3)"
   ]
  },
  {
   "cell_type": "code",
   "execution_count": 22,
   "id": "ced84ea7",
   "metadata": {},
   "outputs": [
    {
     "name": "stdout",
     "output_type": "stream",
     "text": [
      "Enter num1: 10\n",
      "Enter num2: 20\n",
      "Enter num3: 30\n",
      "the average is 20.0\n"
     ]
    }
   ],
   "source": [
    "\n",
    "def AVERAGE():\n",
    "    N1=eval(input('Enter num1: '))\n",
    "    N2=eval(input('Enter num2: '))\n",
    "    N3=eval(input('Enter num3: '))\n",
    "\n",
    "\n",
    "    avg= (N1+N2+N3)/3\n",
    "\n",
    "    print(f'the average is {avg}')\n",
    "AVERAGE()"
   ]
  },
  {
   "cell_type": "code",
   "execution_count": 23,
   "id": "224b3fd2",
   "metadata": {},
   "outputs": [
    {
     "ename": "NameError",
     "evalue": "name 'N1' is not defined",
     "output_type": "error",
     "traceback": [
      "\u001b[1;31m---------------------------------------------------------------------------\u001b[0m",
      "\u001b[1;31mNameError\u001b[0m                                 Traceback (most recent call last)",
      "Cell \u001b[1;32mIn[23], line 1\u001b[0m\n\u001b[1;32m----> 1\u001b[0m \u001b[38;5;28mprint\u001b[39m(\u001b[43mN1\u001b[49m)\n",
      "\u001b[1;31mNameError\u001b[0m: name 'N1' is not defined"
     ]
    }
   ],
   "source": [
    "print(N1)"
   ]
  },
  {
   "cell_type": "code",
   "execution_count": 24,
   "id": "78d3e2d8",
   "metadata": {},
   "outputs": [
    {
     "ename": "NameError",
     "evalue": "name 'avg' is not defined",
     "output_type": "error",
     "traceback": [
      "\u001b[1;31m---------------------------------------------------------------------------\u001b[0m",
      "\u001b[1;31mNameError\u001b[0m                                 Traceback (most recent call last)",
      "Cell \u001b[1;32mIn[24], line 1\u001b[0m\n\u001b[1;32m----> 1\u001b[0m \u001b[43mavg\u001b[49m\n",
      "\u001b[1;31mNameError\u001b[0m: name 'avg' is not defined"
     ]
    }
   ],
   "source": [
    "avg"
   ]
  },
  {
   "cell_type": "code",
   "execution_count": 30,
   "id": "239da14c",
   "metadata": {},
   "outputs": [
    {
     "ename": "SyntaxError",
     "evalue": "invalid syntax (3835221079.py, line 2)",
     "output_type": "error",
     "traceback": [
      "\u001b[1;36m  Cell \u001b[1;32mIn[30], line 2\u001b[1;36m\u001b[0m\n\u001b[1;33m    global X=100\u001b[0m\n\u001b[1;37m            ^\u001b[0m\n\u001b[1;31mSyntaxError\u001b[0m\u001b[1;31m:\u001b[0m invalid syntax\n"
     ]
    }
   ],
   "source": [
    "\n",
    "N1=eval(input('Enter num1: '))\n",
    "N2=eval(input('Enter num2: '))\n",
    "N3=eval(input('Enter num3: ')).\n",
    "\n",
    "def AVERAGE():\n",
    "    N1=eval(input('Enter num1: '))\n",
    "    N2=eval(input('Enter num2: '))\n",
    "    N3=eval(input('Enter num3: '))\n",
    "\n",
    "\n",
    "    avg= (N1+N2+N3)/3\n",
    "\n",
    "    print(f'the average is {avg}')\n",
    "AVERAGE()"
   ]
  },
  {
   "cell_type": "markdown",
   "id": "2929a8d0",
   "metadata": {},
   "source": [
    "**how to usse local variabe outside the function**"
   ]
  },
  {
   "cell_type": "code",
   "execution_count": 32,
   "id": "d18578f7",
   "metadata": {},
   "outputs": [
    {
     "name": "stdout",
     "output_type": "stream",
     "text": [
      "600\n"
     ]
    }
   ],
   "source": [
    "A=100\n",
    "B=200\n",
    "C=300\n",
    "\n",
    "def ADD1():\n",
    "    global ADD\n",
    "    ADD=A+B+C\n",
    "    print(ADD)\n",
    "    \n",
    "ADD1()"
   ]
  },
  {
   "cell_type": "code",
   "execution_count": 33,
   "id": "02da2bf3",
   "metadata": {},
   "outputs": [
    {
     "data": {
      "text/plain": [
       "600"
      ]
     },
     "execution_count": 33,
     "metadata": {},
     "output_type": "execute_result"
    }
   ],
   "source": [
    "ADD"
   ]
  },
  {
   "cell_type": "markdown",
   "id": "fc6fa467",
   "metadata": {},
   "source": [
    "- locals variable can use outside the  function in two ways\n",
    "\n",
    "- by making local variable as using **global** keyword\n",
    "\n",
    "- by using return statements also"
   ]
  },
  {
   "cell_type": "code",
   "execution_count": 3,
   "id": "e7c5e7d0",
   "metadata": {},
   "outputs": [
    {
     "name": "stdout",
     "output_type": "stream",
     "text": [
      "50 10\n"
     ]
    }
   ],
   "source": [
    "def summ(a,b):\n",
    "    global add,sub\n",
    "    add=a+b\n",
    "    sub=a-b\n",
    "    print(add,sub)\n",
    "    \n",
    "summ(30,20)"
   ]
  },
  {
   "cell_type": "code",
   "execution_count": 4,
   "id": "683f63cb",
   "metadata": {},
   "outputs": [
    {
     "data": {
      "text/plain": [
       "(50, 10)"
      ]
     },
     "execution_count": 4,
     "metadata": {},
     "output_type": "execute_result"
    }
   ],
   "source": [
    "add,sub"
   ]
  },
  {
   "cell_type": "markdown",
   "id": "3d4c3ae7",
   "metadata": {},
   "source": [
    "**unbound local variable**\n",
    "\n",
    "- unbound local error means the variable is not defined\n",
    "\n",
    "- tha variable is used as both input and output innside the function"
   ]
  },
  {
   "cell_type": "code",
   "execution_count": 5,
   "id": "a615518b",
   "metadata": {},
   "outputs": [
    {
     "ename": "UnboundLocalError",
     "evalue": "local variable 'b' referenced before assignment",
     "output_type": "error",
     "traceback": [
      "\u001b[1;31m---------------------------------------------------------------------------\u001b[0m",
      "\u001b[1;31mUnboundLocalError\u001b[0m                         Traceback (most recent call last)",
      "Cell \u001b[1;32mIn[5], line 6\u001b[0m\n\u001b[0;32m      3\u001b[0m     b\u001b[38;5;241m=\u001b[39mb\u001b[38;5;241m+\u001b[39ma\n\u001b[0;32m      4\u001b[0m     \u001b[38;5;28mprint\u001b[39m(b)\n\u001b[1;32m----> 6\u001b[0m \u001b[43mfun1\u001b[49m\u001b[43m(\u001b[49m\u001b[43m)\u001b[49m\n",
      "Cell \u001b[1;32mIn[5], line 3\u001b[0m, in \u001b[0;36mfun1\u001b[1;34m()\u001b[0m\n\u001b[0;32m      1\u001b[0m \u001b[38;5;28;01mdef\u001b[39;00m \u001b[38;5;21mfun1\u001b[39m():\n\u001b[0;32m      2\u001b[0m     a\u001b[38;5;241m=\u001b[39m\u001b[38;5;241m10\u001b[39m\n\u001b[1;32m----> 3\u001b[0m     b\u001b[38;5;241m=\u001b[39m\u001b[43mb\u001b[49m\u001b[38;5;241m+\u001b[39ma\n\u001b[0;32m      4\u001b[0m     \u001b[38;5;28mprint\u001b[39m(b)\n",
      "\u001b[1;31mUnboundLocalError\u001b[0m: local variable 'b' referenced before assignment"
     ]
    }
   ],
   "source": [
    "def fun1():\n",
    "    a=10\n",
    "    b=b+a\n",
    "    print(b)\n",
    "    \n",
    "fun1()"
   ]
  },
  {
   "cell_type": "code",
   "execution_count": 6,
   "id": "b0d0d174",
   "metadata": {},
   "outputs": [
    {
     "ename": "NameError",
     "evalue": "name 'b' is not defined",
     "output_type": "error",
     "traceback": [
      "\u001b[1;31m---------------------------------------------------------------------------\u001b[0m",
      "\u001b[1;31mNameError\u001b[0m                                 Traceback (most recent call last)",
      "Cell \u001b[1;32mIn[6], line 6\u001b[0m\n\u001b[0;32m      3\u001b[0m     c\u001b[38;5;241m=\u001b[39mb\u001b[38;5;241m+\u001b[39ma\n\u001b[0;32m      4\u001b[0m     \u001b[38;5;28mprint\u001b[39m(c)\n\u001b[1;32m----> 6\u001b[0m \u001b[43mfun2\u001b[49m\u001b[43m(\u001b[49m\u001b[43m)\u001b[49m\n",
      "Cell \u001b[1;32mIn[6], line 3\u001b[0m, in \u001b[0;36mfun2\u001b[1;34m()\u001b[0m\n\u001b[0;32m      1\u001b[0m \u001b[38;5;28;01mdef\u001b[39;00m \u001b[38;5;21mfun2\u001b[39m():\n\u001b[0;32m      2\u001b[0m     a\u001b[38;5;241m=\u001b[39m\u001b[38;5;241m10\u001b[39m\n\u001b[1;32m----> 3\u001b[0m     c\u001b[38;5;241m=\u001b[39m\u001b[43mb\u001b[49m\u001b[38;5;241m+\u001b[39ma\n\u001b[0;32m      4\u001b[0m     \u001b[38;5;28mprint\u001b[39m(c)\n",
      "\u001b[1;31mNameError\u001b[0m: name 'b' is not defined"
     ]
    }
   ],
   "source": [
    "def fun2():\n",
    "    a=10\n",
    "    c=b+a\n",
    "    print(c)\n",
    "    \n",
    "fun2()"
   ]
  },
  {
   "cell_type": "code",
   "execution_count": 7,
   "id": "c78ff334",
   "metadata": {},
   "outputs": [
    {
     "ename": "NameError",
     "evalue": "name 'b' is not defined",
     "output_type": "error",
     "traceback": [
      "\u001b[1;31m---------------------------------------------------------------------------\u001b[0m",
      "\u001b[1;31mNameError\u001b[0m                                 Traceback (most recent call last)",
      "Cell \u001b[1;32mIn[7], line 2\u001b[0m\n\u001b[0;32m      1\u001b[0m a\u001b[38;5;241m=\u001b[39m\u001b[38;5;241m10\u001b[39m\n\u001b[1;32m----> 2\u001b[0m b\u001b[38;5;241m=\u001b[39m\u001b[43mb\u001b[49m\u001b[38;5;241m+\u001b[39ma\n",
      "\u001b[1;31mNameError\u001b[0m: name 'b' is not defined"
     ]
    }
   ],
   "source": [
    "a=10\n",
    "b=b+a"
   ]
  },
  {
   "cell_type": "markdown",
   "id": "5c68c7eb",
   "metadata": {},
   "source": [
    "# return statement\n",
    "\n",
    "- till now above we have created a function with print statement in order\n",
    "\n",
    "- the function output we are not abl to use outside the function\n",
    "\n",
    "- becouse it is a local variabe\n",
    "\n",
    "- one method we used to is **global**\n",
    "\n",
    "- another method is return statement\n",
    "\n",
    "- return means something we are recieving \n",
    "\n",
    "- print mens only we can see the answer "
   ]
  },
  {
   "cell_type": "code",
   "execution_count": 48,
   "id": "285c3771",
   "metadata": {},
   "outputs": [],
   "source": [
    "def add(a,b):\n",
    "    c=a+b\n",
    "    return(c)\n",
    "    \n",
    "val1=add(20,30)"
   ]
  },
  {
   "cell_type": "code",
   "execution_count": 50,
   "id": "6a966baf",
   "metadata": {},
   "outputs": [
    {
     "data": {
      "text/plain": [
       "50"
      ]
     },
     "execution_count": 50,
     "metadata": {},
     "output_type": "execute_result"
    }
   ],
   "source": [
    "val1"
   ]
  },
  {
   "cell_type": "code",
   "execution_count": 44,
   "id": "e8c623a0",
   "metadata": {},
   "outputs": [
    {
     "name": "stdout",
     "output_type": "stream",
     "text": [
      "50\n"
     ]
    }
   ],
   "source": [
    "def add(a,b):\n",
    "    c=a+b\n",
    "    print(c)\n",
    "    \n",
    "val1=add(20,30)"
   ]
  },
  {
   "cell_type": "code",
   "execution_count": 46,
   "id": "3d61ed93",
   "metadata": {},
   "outputs": [],
   "source": [
    "val1"
   ]
  },
  {
   "cell_type": "code",
   "execution_count": null,
   "id": "6b93e6b3",
   "metadata": {},
   "outputs": [],
   "source": [
    "-"
   ]
  },
  {
   "cell_type": "code",
   "execution_count": 22,
   "id": "71ee28c2",
   "metadata": {},
   "outputs": [
    {
     "name": "stdout",
     "output_type": "stream",
     "text": [
      "300 -100\n"
     ]
    },
    {
     "ename": "TypeError",
     "evalue": "cannot unpack non-iterable int object",
     "output_type": "error",
     "traceback": [
      "\u001b[1;31m---------------------------------------------------------------------------\u001b[0m",
      "\u001b[1;31mTypeError\u001b[0m                                 Traceback (most recent call last)",
      "Cell \u001b[1;32mIn[22], line 7\u001b[0m\n\u001b[0;32m      5\u001b[0m     \u001b[38;5;28;01mreturn\u001b[39;00m(summ)\n\u001b[0;32m      6\u001b[0m     \u001b[38;5;28;01mreturn\u001b[39;00m(sub)\n\u001b[1;32m----> 7\u001b[0m summ,sub\u001b[38;5;241m=\u001b[39madd_sub(\u001b[38;5;241m100\u001b[39m,\u001b[38;5;241m200\u001b[39m)\n",
      "\u001b[1;31mTypeError\u001b[0m: cannot unpack non-iterable int object"
     ]
    }
   ],
   "source": [
    "def add_sub(a,b):\n",
    "    summ=a+b\n",
    "    sub=a-b\n",
    "    return(summ,sub)\n",
    "\n",
    "summ,sub=add_sub(100,200)"
   ]
  },
  {
   "cell_type": "code",
   "execution_count": 28,
   "id": "8ba68507",
   "metadata": {},
   "outputs": [
    {
     "name": "stdout",
     "output_type": "stream",
     "text": [
      "300\n"
     ]
    },
    {
     "data": {
      "text/plain": [
       "300"
      ]
     },
     "execution_count": 28,
     "metadata": {},
     "output_type": "execute_result"
    }
   ],
   "source": [
    "def add_sub1(a,b):\n",
    "    summ=a+b\n",
    "    sub=a-b\n",
    "    print(summ)\n",
    "    return(summ)\n",
    "    return(sub)\n",
    "add_sub1(200,100)"
   ]
  },
  {
   "cell_type": "code",
   "execution_count": 30,
   "id": "de5809f8",
   "metadata": {},
   "outputs": [
    {
     "data": {
      "text/plain": [
       "(100, 200)"
      ]
     },
     "execution_count": 30,
     "metadata": {},
     "output_type": "execute_result"
    }
   ],
   "source": [
    "n1=100,200\n",
    "n1"
   ]
  },
  {
   "cell_type": "code",
   "execution_count": 32,
   "id": "e1b676cd",
   "metadata": {},
   "outputs": [
    {
     "data": {
      "text/plain": [
       "(100, 200)"
      ]
     },
     "execution_count": 32,
     "metadata": {},
     "output_type": "execute_result"
    }
   ],
   "source": [
    "n1,n2=100,200\n",
    "n1,n2"
   ]
  },
  {
   "cell_type": "code",
   "execution_count": 33,
   "id": "7d2f0423",
   "metadata": {},
   "outputs": [
    {
     "ename": "TypeError",
     "evalue": "cannot unpack non-iterable int object",
     "output_type": "error",
     "traceback": [
      "\u001b[1;31m---------------------------------------------------------------------------\u001b[0m",
      "\u001b[1;31mTypeError\u001b[0m                                 Traceback (most recent call last)",
      "Cell \u001b[1;32mIn[33], line 1\u001b[0m\n\u001b[1;32m----> 1\u001b[0m n1,n2\u001b[38;5;241m=\u001b[39m\u001b[38;5;241m100\u001b[39m\n\u001b[0;32m      2\u001b[0m n1,n2\n",
      "\u001b[1;31mTypeError\u001b[0m: cannot unpack non-iterable int object"
     ]
    }
   ],
   "source": [
    "n1,n2=100\n",
    "n1,n2"
   ]
  },
  {
   "cell_type": "code",
   "execution_count": 34,
   "id": "66935cee",
   "metadata": {},
   "outputs": [],
   "source": [
    "def add_sub1(a,b):\n",
    "    summ=a+b\n",
    "    sub=a-b\n",
    "    return(summ,sub)\n",
    "\n",
    "op=add_sub1(200,100)"
   ]
  },
  {
   "cell_type": "code",
   "execution_count": 35,
   "id": "e0301d2c",
   "metadata": {},
   "outputs": [
    {
     "data": {
      "text/plain": [
       "(300, 100)"
      ]
     },
     "execution_count": 35,
     "metadata": {},
     "output_type": "execute_result"
    }
   ],
   "source": [
    "op"
   ]
  },
  {
   "cell_type": "code",
   "execution_count": null,
   "id": "efad225e",
   "metadata": {},
   "outputs": [],
   "source": [
    "10\n",
    "20\n",
    "5\n",
    "35==with with def,try,local , global,return"
   ]
  },
  {
   "cell_type": "markdown",
   "id": "904d8a1c",
   "metadata": {},
   "source": [
    "**global vs return**\n",
    "\n",
    "- global keyword used for we can take the inside variable to outside the function\n",
    "\n",
    "- return can return any value outside function\n",
    "\n",
    "**the value you return can be used another botebook also**"
   ]
  },
  {
   "cell_type": "markdown",
   "id": "4d10c4e6",
   "metadata": {},
   "source": [
    "**function in functions**"
   ]
  },
  {
   "cell_type": "code",
   "execution_count": 37,
   "id": "e7a4ba1c",
   "metadata": {},
   "outputs": [
    {
     "name": "stdout",
     "output_type": "stream",
     "text": [
      "hello good morning\n",
      "hello good night\n"
     ]
    }
   ],
   "source": [
    "def greet1():\n",
    "    print('hello good morning')\n",
    "    \n",
    "def greet2():\n",
    "    print('hello good night')\n",
    "    \n",
    "    \n",
    "greet1()\n",
    "greet2()"
   ]
  },
  {
   "cell_type": "code",
   "execution_count": null,
   "id": "df294761",
   "metadata": {},
   "outputs": [],
   "source": [
    "def greet1():\n",
    "    print('hello good morning')\n",
    "    \n",
    "def greet2():\n",
    "    print('hello good night')\n",
    "    \n",
    "    \n",
    "greet1()\n",
    "greet2()"
   ]
  },
  {
   "cell_type": "code",
   "execution_count": 38,
   "id": "4aeb2c9b",
   "metadata": {},
   "outputs": [
    {
     "name": "stdout",
     "output_type": "stream",
     "text": [
      "hello good morning\n",
      "hello good night\n"
     ]
    }
   ],
   "source": [
    "def greet1():\n",
    "    print('hello good morning')\n",
    "    \n",
    "def greet2():\n",
    "    print('greet1 function starts')\n",
    "    greet1()\n",
    "    print('hello good night')\n",
    "    \n",
    "greet2()"
   ]
  },
  {
   "cell_type": "code",
   "execution_count": 39,
   "id": "1e20d43b",
   "metadata": {},
   "outputs": [
    {
     "name": "stdout",
     "output_type": "stream",
     "text": [
      "hello good night\n",
      "hello good morning\n"
     ]
    }
   ],
   "source": [
    "def greet1():\n",
    "    print('greet2 function starts')\n",
    "    greet2()\n",
    "    print('hello good morning')\n",
    "    \n",
    "def greet2():\n",
    "    print('hello good night')\n",
    "    \n",
    "    \n",
    "greet1()"
   ]
  },
  {
   "cell_type": "code",
   "execution_count": null,
   "id": "ef4f82e3",
   "metadata": {},
   "outputs": [],
   "source": [
    "def greet1():\n",
    "    print('greet2 function starts')\n",
    "    greet2()\n",
    "    print('hello good morning')\n",
    "    \n",
    "def greet2():\n",
    "    print('greet1 function starts')\n",
    "    greet1()\n",
    "    print('hello good night')\n",
    "    \n",
    "    \n",
    "greet1()\n",
    "\n",
    "# dont run this"
   ]
  },
  {
   "cell_type": "code",
   "execution_count": 45,
   "id": "2f7ecaa1",
   "metadata": {},
   "outputs": [
    {
     "ename": "TypeError",
     "evalue": "outside_function() missing 1 required positional argument: 'name'",
     "output_type": "error",
     "traceback": [
      "\u001b[1;31m---------------------------------------------------------------------------\u001b[0m",
      "\u001b[1;31mTypeError\u001b[0m                                 Traceback (most recent call last)",
      "Cell \u001b[1;32mIn[45], line 10\u001b[0m\n\u001b[0;32m      7\u001b[0m \u001b[38;5;28;01mdef\u001b[39;00m \u001b[38;5;21moutside_function\u001b[39m(name):\n\u001b[0;32m      8\u001b[0m     inside_function()\n\u001b[1;32m---> 10\u001b[0m \u001b[43moutside_function\u001b[49m\u001b[43m(\u001b[49m\u001b[43m)\u001b[49m\n",
      "\u001b[1;31mTypeError\u001b[0m: outside_function() missing 1 required positional argument: 'name'"
     ]
    }
   ],
   "source": [
    "def inside_function():\n",
    "        print(f'hello {name} good morning')\n",
    "    \n",
    "        # we need to sense here\n",
    "        # name is not defined not even globally\n",
    "        # if i call this function def i will get error\n",
    "\n",
    "def outside_function(name):\n",
    "    inside_function()\n",
    "        \n",
    "outside_function()"
   ]
  },
  {
   "cell_type": "code",
   "execution_count": 46,
   "id": "ee81e234",
   "metadata": {},
   "outputs": [
    {
     "name": "stdout",
     "output_type": "stream",
     "text": [
      "hello python good morning\n"
     ]
    }
   ],
   "source": [
    "def inside_function(name):\n",
    "        print(f'hello {name} good morning')\n",
    "        # is variable define anywhere\n",
    "\n",
    "def outside_function(name):\n",
    "    inside_function(name)\n",
    "        \n",
    "outside_function('python')"
   ]
  },
  {
   "cell_type": "code",
   "execution_count": 52,
   "id": "fb6676d3",
   "metadata": {},
   "outputs": [
    {
     "name": "stdout",
     "output_type": "stream",
     "text": [
      "30\n"
     ]
    }
   ],
   "source": [
    "def MATH1():\n",
    "    def MATH():\n",
    "        def add(a,b):\n",
    "            print(a+b)\n",
    "        add(10,20)\n",
    "    MATH()\n",
    "MATH1()"
   ]
  },
  {
   "cell_type": "code",
   "execution_count": 53,
   "id": "ea919d1c",
   "metadata": {},
   "outputs": [
    {
     "name": "stdout",
     "output_type": "stream",
     "text": [
      "30\n"
     ]
    }
   ],
   "source": [
    "def MATH(a,b):\n",
    "    def add():\n",
    "        print(a+b)\n",
    "    add()\n",
    "MATH(10,20)"
   ]
  },
  {
   "cell_type": "code",
   "execution_count": null,
   "id": "0ccf5b2c",
   "metadata": {},
   "outputs": [],
   "source": [
    "# First create 4 functions\n",
    "\n",
    "# calculate program\n",
    "# addd function\n",
    "# def add(a,b)\n",
    "#print(a+b)\n",
    "#sub,mul,div function\n",
    "# print(enter the value 1,2,3,4)\n",
    "# main function\n",
    "# a=number\n",
    "# b=number\n",
    "# operarter = \n",
    "# if operator ==1\n",
    "# add function ()\n"
   ]
  },
  {
   "cell_type": "code",
   "execution_count": null,
   "id": "3ab2b64e",
   "metadata": {},
   "outputs": [],
   "source": [
    "# calculate program\n",
    "def main(a,b):\n",
    "    def add():\n",
    "        print(a+b)\n",
    "\n",
    "    def sub():\n",
    "        print(a-b)\n",
    "\n",
    "    def mul():\n",
    "        print(a*b)\n",
    "\n",
    "    def div():\n",
    "        print(a/b)\n",
    "\n",
    "    print('Enter the value between 1,2,3,4')\n",
    "\n",
    "main(a,b)"
   ]
  },
  {
   "cell_type": "code",
   "execution_count": 3,
   "id": "a18ace0e-fcec-4ade-8c76-fc6de62483b7",
   "metadata": {},
   "outputs": [],
   "source": [
    "def add(a,b):\n",
    "    c=a+b\n",
    "    return c\n",
    "val1=add(20,30)"
   ]
  },
  {
   "cell_type": "code",
   "execution_count": 7,
   "id": "b16db50d-9a05-411c-80a1-41273af18dae",
   "metadata": {},
   "outputs": [
    {
     "data": {
      "text/plain": [
       "50"
      ]
     },
     "execution_count": 7,
     "metadata": {},
     "output_type": "execute_result"
    }
   ],
   "source": [
    "val1"
   ]
  },
  {
   "cell_type": "code",
   "execution_count": 1,
   "id": "28cd0a45-08d0-4f76-a4ce-2774083aded6",
   "metadata": {},
   "outputs": [
    {
     "name": "stdout",
     "output_type": "stream",
     "text": [
      "50\n"
     ]
    }
   ],
   "source": [
    "def add1(a,b):\n",
    "    c=a+b\n",
    "    print(c)\n",
    "val3=add1(20,30)"
   ]
  },
  {
   "cell_type": "code",
   "execution_count": 5,
   "id": "0bba5c97-1a35-4691-a58c-c0bb517fff44",
   "metadata": {},
   "outputs": [],
   "source": [
    "val3"
   ]
  },
  {
   "cell_type": "code",
   "execution_count": 39,
   "id": "f5717d82-6240-4c18-ac0b-7488d5bdaf7c",
   "metadata": {},
   "outputs": [
    {
     "data": {
      "text/plain": [
       "30"
      ]
     },
     "execution_count": 39,
     "metadata": {},
     "output_type": "execute_result"
    }
   ],
   "source": [
    "def check():\n",
    "    a=20\n",
    "    b=30\n",
    "    return b\n",
    "    return a\n",
    "check()"
   ]
  },
  {
   "cell_type": "code",
   "execution_count": null,
   "id": "a6edeace-6e08-4cb4-bb1d-1f78195399c3",
   "metadata": {},
   "outputs": [],
   "source": []
  }
 ],
 "metadata": {
  "kernelspec": {
   "display_name": "Python 3 (ipykernel)",
   "language": "python",
   "name": "python3"
  },
  "language_info": {
   "codemirror_mode": {
    "name": "ipython",
    "version": 3
   },
   "file_extension": ".py",
   "mimetype": "text/x-python",
   "name": "python",
   "nbconvert_exporter": "python",
   "pygments_lexer": "ipython3",
   "version": "3.12.7"
  }
 },
 "nbformat": 4,
 "nbformat_minor": 5
}
